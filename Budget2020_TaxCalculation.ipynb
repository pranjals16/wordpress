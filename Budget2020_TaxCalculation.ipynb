{
 "cells": [
  {
   "cell_type": "markdown",
   "metadata": {},
   "source": [
    "# Tax Liability Comparison after Budget 2020\n",
    "##### Author: Pranjal Singh"
   ]
  },
  {
   "cell_type": "code",
   "execution_count": 143,
   "metadata": {},
   "outputs": [],
   "source": [
    "import pandas as pd\n",
    "import numpy as np\n",
    "import seaborn as sns\n",
    "import matplotlib.pyplot as plt"
   ]
  },
  {
   "cell_type": "markdown",
   "metadata": {},
   "source": [
    "# Various Functions"
   ]
  },
  {
   "cell_type": "code",
   "execution_count": 144,
   "metadata": {
    "hide_input": false
   },
   "outputs": [],
   "source": [
    "def calculate_hra_exemption(basic_salary, house_rent_allowance, rent_paid_yearly, is_metro_city):\n",
    "    clause1 = house_rent_allowance\n",
    "    clause2 = rent_paid_yearly - 0.1 * basic_salary\n",
    "    clause3 = 0.5 * basic_salary if is_metro_city == \"Y\" else 0.4 * basic_salary\n",
    "    return max(0, min(clause1, clause2, clause3))"
   ]
  },
  {
   "cell_type": "code",
   "execution_count": 145,
   "metadata": {
    "hide_input": true
   },
   "outputs": [],
   "source": [
    "def calculate_professional_tax(gross_salary, state_of_residence):\n",
    "    if state_of_residence == \"Andhra Pradesh\" or state_of_residence == \"Telangana\":\n",
    "        if 15000 < gross_salary <= 20000:\n",
    "            return 150\n",
    "        elif gross_salary > 20000:\n",
    "            return 200\n",
    "        else:\n",
    "            return 0\n",
    "    elif state_of_residence == \"Assam\":\n",
    "        if 10000 < gross_salary <= 15000:\n",
    "            return 150\n",
    "        elif 15000 < gross_salary < 25000:\n",
    "            return 180\n",
    "        elif gross_salary >= 25000:\n",
    "            return 208\n",
    "        else:\n",
    "            return 0\n",
    "    elif state_of_residence == \"Bihar\":\n",
    "        if 25000 < gross_salary <= 41666:\n",
    "            return 83.33\n",
    "        elif 41666 < gross_salary <= 83333:\n",
    "            return 166.67\n",
    "        elif gross_salary >= 83334:\n",
    "            return 208.33\n",
    "        else:\n",
    "            return 0\n",
    "    elif state_of_residence == \"Goa\":\n",
    "        if 15000 < gross_salary <= 25000:\n",
    "            return 150\n",
    "        elif gross_salary > 25000:\n",
    "            return 200\n",
    "        else:\n",
    "            return 0\n",
    "    elif state_of_residence == \"Gujarat\":\n",
    "        if 6000 <= gross_salary < 9000:\n",
    "            return 80\n",
    "        elif 9000 <= gross_salary < 12000:\n",
    "            return 150\n",
    "        elif gross_salary >= 12000:\n",
    "            return 200\n",
    "        else:\n",
    "            return 0\n",
    "    elif state_of_residence == \"Jharkhand\":\n",
    "        if 25000 < gross_salary < 41667:\n",
    "            return 100\n",
    "        elif 41667 <= gross_salary < 66667:\n",
    "            return 150\n",
    "        elif 66667 <= gross_salary < 83334:\n",
    "            return 175\n",
    "        elif gross_salary >= 83334:\n",
    "            return 208.33\n",
    "        else:\n",
    "            return 0\n",
    "    elif state_of_residence == \"Karnataka\":\n",
    "        if gross_salary > 15000:\n",
    "            return 200\n",
    "        else:\n",
    "            return 0\n",
    "    elif state_of_residence == \"Kerala\":\n",
    "        if 2000 <= gross_salary < 3000:\n",
    "            return 20\n",
    "        elif 3000 <= gross_salary < 5000:\n",
    "            return 30\n",
    "        elif 5000 <= gross_salary < 7500:\n",
    "            return 50\n",
    "        elif 7500 <= gross_salary < 10000:\n",
    "            return 75\n",
    "        elif 10000 <= gross_salary < 12500:\n",
    "            return 100\n",
    "        elif 12500 <= gross_salary < 16667:\n",
    "            return 125\n",
    "        elif 16667 <= gross_salary < 20834:\n",
    "            return 166\n",
    "        elif gross_salary >= 20834:\n",
    "            return 208\n",
    "        else:\n",
    "            return 0\n",
    "    elif state_of_residence == \"Madhya Pradesh\":\n",
    "        if 18750 < gross_salary <= 25000:\n",
    "            return 125\n",
    "        elif 25000 < gross_salary <= 33333:\n",
    "            return 167\n",
    "        elif gross_salary > 33333:\n",
    "            return 208.33\n",
    "        else:\n",
    "            return 0\n",
    "    elif state_of_residence == \"Maharashtra\":\n",
    "        if 7500 < gross_salary <= 10000:\n",
    "            return 175\n",
    "        elif gross_salary > 10000:\n",
    "            return 208.33\n",
    "        else:\n",
    "            return 0\n",
    "    elif state_of_residence == \"Manipur\":\n",
    "        if 4250 < gross_salary <= 6250:\n",
    "            return 100\n",
    "        elif 6250 < gross_salary <= 8333:\n",
    "            return 167\n",
    "        elif 8333 < gross_salary <= 10416:\n",
    "            return 200\n",
    "        elif gross_salary > 10416:\n",
    "            return 208.33\n",
    "        else:\n",
    "            return 0\n",
    "    elif state_of_residence == \"Meghalaya\":\n",
    "        if 4166 < gross_salary <= 6250:\n",
    "            return 16.5\n",
    "        elif 6250 < gross_salary <= 8333:\n",
    "            return 25\n",
    "        elif 8333 < gross_salary <= 12500:\n",
    "            return 41.5\n",
    "        elif 12500 < gross_salary <= 16666:\n",
    "            return 62.5\n",
    "        elif 16666 < gross_salary <= 20833:\n",
    "            return 83.33\n",
    "        elif 20833 < gross_salary <= 25000:\n",
    "            return 104.16\n",
    "        elif 25000 < gross_salary <= 29166:\n",
    "            return 125\n",
    "        elif 29166 < gross_salary <= 33333:\n",
    "            return 150\n",
    "        elif 33333 < gross_salary <= 37500:\n",
    "            return 175\n",
    "        elif 37500 < gross_salary <= 41666:\n",
    "            return 200\n",
    "        elif gross_salary > 41666:\n",
    "            return 208.33\n",
    "        else:\n",
    "            return 0\n",
    "    elif state_of_residence == \"Nagaland\":\n",
    "        if 4000 < gross_salary <= 5000:\n",
    "            return 35\n",
    "        elif 5000 < gross_salary <= 7000:\n",
    "            return 75\n",
    "        elif 7000 < gross_salary <= 9000:\n",
    "            return 110\n",
    "        elif 9000 < gross_salary <= 12000:\n",
    "            return 180\n",
    "        elif gross_salary > 12000:\n",
    "            return 208\n",
    "        else:\n",
    "            return 0\n",
    "    elif state_of_residence == \"Odisha\":\n",
    "        if 13304 < gross_salary <= 25000:\n",
    "            return 125\n",
    "        elif gross_salary > 25000:\n",
    "            return 208.33\n",
    "        else:\n",
    "            return 0\n",
    "    elif state_of_residence == \"Puducherry\":\n",
    "        if 16666 < gross_salary <= 33333:\n",
    "            return 41.66\n",
    "        elif 33333 < gross_salary <= 50000:\n",
    "            return 83.33\n",
    "        elif 50000 < gross_salary <= 66666:\n",
    "            return 125\n",
    "        elif 66666 < gross_salary <= 83333:\n",
    "            return 166.67\n",
    "        elif gross_salary > 83333:\n",
    "            return 208.33\n",
    "        else:\n",
    "            return 0\n",
    "    elif state_of_residence == \"Punjab\":\n",
    "        if gross_salary > 20833:\n",
    "            return 200\n",
    "        else:\n",
    "            return 0\n",
    "    elif state_of_residence == \"Sikkim\":\n",
    "        if 20000 < gross_salary <= 30000:\n",
    "            return 125\n",
    "        elif 30000 < gross_salary <= 40000:\n",
    "            return 150\n",
    "        elif gross_salary > 40000:\n",
    "            return 200\n",
    "        else:\n",
    "            return 0\n",
    "    elif state_of_residence == \"Tamil Nadu\":\n",
    "        if 3500 < gross_salary <= 5000:\n",
    "            return 22.5\n",
    "        elif 5000 < gross_salary <= 7500:\n",
    "            return 52.5\n",
    "        elif 7500 < gross_salary <= 10000:\n",
    "            return 115\n",
    "        elif 10000 < gross_salary <= 12500:\n",
    "            return 171\n",
    "        elif gross_salary > 12500:\n",
    "            return 208\n",
    "        else:\n",
    "            return 0\n",
    "    elif state_of_residence == \"Tripura\":\n",
    "        if 5000 < gross_salary <= 7000:\n",
    "            return 70\n",
    "        elif 7000 < gross_salary <= 9000:\n",
    "            return 120\n",
    "        elif 9000 < gross_salary <= 12000:\n",
    "            return 140\n",
    "        elif 12000 < gross_salary <= 15000:\n",
    "            return 190\n",
    "        elif gross_salary > 15000:\n",
    "            return 208\n",
    "        else:\n",
    "            return 0\n",
    "    elif state_of_residence == \"West Bengal\":\n",
    "        if 10000 < gross_salary <= 15000:\n",
    "            return 110\n",
    "        elif 15000 < gross_salary <= 25000:\n",
    "            return 130\n",
    "        elif 25000 < gross_salary <= 40000:\n",
    "            return 150\n",
    "        elif gross_salary > 40000:\n",
    "            return 200\n",
    "        else:\n",
    "            return 0\n",
    "    else:\n",
    "        return 0\n",
    "    "
   ]
  },
  {
   "cell_type": "code",
   "execution_count": 146,
   "metadata": {
    "hide_input": false
   },
   "outputs": [],
   "source": [
    "def calculate_old_tax_liability(net_taxable_income_old):\n",
    "    tax_value = 0\n",
    "    if 250000 <= net_taxable_income_old < 500000:\n",
    "        tax_value = 0.05 * (net_taxable_income_old - 250000)\n",
    "    elif 500000 <= net_taxable_income_old < 1000000:\n",
    "        tax_value = 12500 + 0.2 * (net_taxable_income_old - 500000)\n",
    "    elif net_taxable_income_old >= 1000000:\n",
    "        tax_value = 12500 + 100000 + 0.3 * (net_taxable_income_old - 1000000)\n",
    "    return round(tax_value)"
   ]
  },
  {
   "cell_type": "code",
   "execution_count": 147,
   "metadata": {},
   "outputs": [],
   "source": [
    "def calculate_new_tax_liability(net_taxable_income_new):\n",
    "    tax_value = 0\n",
    "    if 250000 <= net_taxable_income_new < 500000:\n",
    "        tax_value = 0.05 * (net_taxable_income_new - 250000)\n",
    "    elif 500000 <= net_taxable_income_new < 750000:\n",
    "        tax_value = 12500 + 0.1 * (net_taxable_income_new - 500000)\n",
    "    elif 750000 <= net_taxable_income_new < 1000000:\n",
    "        tax_value = 12500 + 25000 + 0.15 * (net_taxable_income_new - 750000)\n",
    "    elif 1000000 <= net_taxable_income_new < 1250000:\n",
    "        tax_value = 12500 + 25000 + 37500 + 0.2 * (net_taxable_income_new - 1000000)\n",
    "    elif 1250000 <= net_taxable_income_new < 1500000:\n",
    "        tax_value = 12500 + 25000 + 37500 + 50000 + 0.25 * (net_taxable_income_new - 1250000)\n",
    "    elif net_taxable_income_new >= 1500000:\n",
    "        tax_value = 12500 + 25000 + 37500 + 50000 + 62500 + 0.3 * (net_taxable_income_new - 1500000)\n",
    "    return round(tax_value)"
   ]
  },
  {
   "cell_type": "code",
   "execution_count": 148,
   "metadata": {},
   "outputs": [],
   "source": [
    "def calculate_rebate87a(net_taxable_income, home_loan_sec24_deduction, income_tax):\n",
    "    if net_taxable_income + home_loan_sec24_deduction <= 500000:\n",
    "        if income_tax < 12500:\n",
    "            return income_tax\n",
    "        else:\n",
    "            return 12500\n",
    "    else:\n",
    "        return 0"
   ]
  },
  {
   "cell_type": "code",
   "execution_count": 149,
   "metadata": {},
   "outputs": [],
   "source": [
    "def calculate_surcharge(net_taxable_income, income_tax):\n",
    "    if 5000000 < net_taxable_income <= 10000000:\n",
    "        return round(0.1 * income_tax)\n",
    "    elif 10000000 < net_taxable_income <= 20000000:\n",
    "        return round(0.15 * income_tax)\n",
    "    elif 20000000 < net_taxable_income <= 50000000:\n",
    "        return round(0.25 * income_tax)\n",
    "    elif net_taxable_income > 50000000:\n",
    "        return round(0.37 * income_tax)\n",
    "    else:\n",
    "        return 0"
   ]
  },
  {
   "cell_type": "code",
   "execution_count": 150,
   "metadata": {},
   "outputs": [],
   "source": [
    "def calculate_marginal_relief(net_taxable_income, surcharge):\n",
    "    if 5000000 < net_taxable_income <= 10000000:\n",
    "        return round(max(0, surcharge - 0.7 * (net_taxable_income - 5000000)))\n",
    "    elif 10000000 < net_taxable_income <= 20000000:\n",
    "        return round(max(0, surcharge - 0.7 * (net_taxable_income - 10000000)))\n",
    "    elif 20000000 < net_taxable_income <= 50000000:\n",
    "        return round(max(0, surcharge - 0.7 * (net_taxable_income - 20000000)))\n",
    "    elif net_taxable_income > 50000000:\n",
    "        return round(max(0, surcharge - 0.7 * (net_taxable_income - 50000000)))\n",
    "    else:\n",
    "        return 0"
   ]
  },
  {
   "cell_type": "markdown",
   "metadata": {},
   "source": [
    "# Income Parameters"
   ]
  },
  {
   "cell_type": "code",
   "execution_count": 151,
   "metadata": {},
   "outputs": [],
   "source": [
    "basic_salary = 1000000\n",
    "house_rent_allowance = 500000\n",
    "medical_allowance = 50000\n",
    "leave_travel_allowance = 75000\n",
    "food_allowance = 30000\n",
    "fitness_allowance = 13900\n",
    "other_allowance = 0\n",
    "sec_80c_deduction = 150000\n",
    "sec_80d_deduction = 5000\n",
    "sec_80ccd1b_nps_deduction = 0\n",
    "sec_80g_donation_deduction = 0\n",
    "savings_bank_interest_deduction = 5000\n",
    "home_loan_sec24_deduction = 0\n",
    "additional_home_loan_sec80eea_deduction = 0\n",
    "employers_contribution_nps_epf = 0"
   ]
  },
  {
   "cell_type": "code",
   "execution_count": 152,
   "metadata": {},
   "outputs": [],
   "source": [
    "bonus = 0"
   ]
  },
  {
   "cell_type": "code",
   "execution_count": 153,
   "metadata": {},
   "outputs": [],
   "source": [
    "rent_paid_yearly = 180000\n",
    "is_metro_city = \"N\" #Y/N (delhi, mumbai, chennai, kolkata are metro cities)\n",
    "state_of_residence = \"Karnataka\""
   ]
  },
  {
   "cell_type": "markdown",
   "metadata": {},
   "source": [
    "# Various Calculations"
   ]
  },
  {
   "cell_type": "code",
   "execution_count": 154,
   "metadata": {},
   "outputs": [
    {
     "name": "stdout",
     "output_type": "stream",
     "text": [
      "Gross Salary is:  1668900\n"
     ]
    }
   ],
   "source": [
    "gross_salary = basic_salary + house_rent_allowance + medical_allowance + leave_travel_allowance \\\n",
    "+ food_allowance + fitness_allowance + other_allowance + bonus\n",
    "\n",
    "print(\"Gross Salary is: \", gross_salary)"
   ]
  },
  {
   "cell_type": "code",
   "execution_count": 155,
   "metadata": {},
   "outputs": [
    {
     "name": "stdout",
     "output_type": "stream",
     "text": [
      "HRA Exemption-Sec 10 is:  80000\n"
     ]
    }
   ],
   "source": [
    "hra_exemption = round(calculate_hra_exemption(basic_salary, house_rent_allowance, rent_paid_yearly, is_metro_city))\n",
    "print(\"HRA Exemption-Sec 10 is: \", hra_exemption)"
   ]
  },
  {
   "cell_type": "code",
   "execution_count": 156,
   "metadata": {},
   "outputs": [
    {
     "name": "stdout",
     "output_type": "stream",
     "text": [
      "Gross Salary after Sec 10 is:  1588900\n"
     ]
    }
   ],
   "source": [
    "gross_salary_w_sec_10 = gross_salary - hra_exemption\n",
    "print(\"Gross Salary after Sec 10 is: \", gross_salary_w_sec_10)"
   ]
  },
  {
   "cell_type": "code",
   "execution_count": 157,
   "metadata": {},
   "outputs": [
    {
     "name": "stdout",
     "output_type": "stream",
     "text": [
      "Professional Tax is:  2400\n"
     ]
    }
   ],
   "source": [
    "professional_tax = int(round(12* calculate_professional_tax(gross_salary, state_of_residence)))\n",
    "print(\"Professional Tax is: \", professional_tax)"
   ]
  },
  {
   "cell_type": "code",
   "execution_count": 158,
   "metadata": {},
   "outputs": [],
   "source": [
    "standard_deduction = 50000"
   ]
  },
  {
   "cell_type": "code",
   "execution_count": 159,
   "metadata": {},
   "outputs": [],
   "source": [
    "gross_total_income_old = gross_salary_w_sec_10 - professional_tax - standard_deduction\n",
    "gross_total_income_new = gross_salary"
   ]
  },
  {
   "cell_type": "code",
   "execution_count": 160,
   "metadata": {},
   "outputs": [
    {
     "name": "stdout",
     "output_type": "stream",
     "text": [
      "Net Taxable Income Old is:  1381500\n",
      "Net Taxable Income New is:  1668900\n"
     ]
    }
   ],
   "source": [
    "net_taxable_income_old = gross_total_income_old - min(150000, sec_80c_deduction) - min(25000, sec_80d_deduction) \\\n",
    "- min(50000, sec_80ccd1b_nps_deduction) - sec_80g_donation_deduction \\\n",
    "+ max(0, savings_bank_interest_deduction - 10000) - min(200000, home_loan_sec24_deduction) \\\n",
    "- min(150000, additional_home_loan_sec80eea_deduction) + max(0, employers_contribution_nps_epf - 750000)\n",
    "\n",
    "net_taxable_income_new = gross_total_income_new + max(0, employers_contribution_nps_epf - 750000) \\\n",
    "- min(150000, additional_home_loan_sec80eea_deduction)\n",
    "\n",
    "print(\"Net Taxable Income Old is: \", net_taxable_income_old)\n",
    "print(\"Net Taxable Income New is: \", net_taxable_income_new)"
   ]
  },
  {
   "cell_type": "code",
   "execution_count": 161,
   "metadata": {},
   "outputs": [
    {
     "name": "stdout",
     "output_type": "stream",
     "text": [
      "Income Tax in Old Regime is:  226950\n",
      "Income Tax in New Regime is:  238170\n"
     ]
    }
   ],
   "source": [
    "income_tax_old = calculate_old_tax_liability(net_taxable_income_old)\n",
    "income_tax_new = calculate_new_tax_liability(net_taxable_income_new)\n",
    "print(\"Income Tax in Old Regime is: \", income_tax_old)\n",
    "print(\"Income Tax in New Regime is: \", income_tax_new)"
   ]
  },
  {
   "cell_type": "code",
   "execution_count": 162,
   "metadata": {},
   "outputs": [
    {
     "name": "stdout",
     "output_type": "stream",
     "text": [
      "Rebate under 87A old is:  0\n",
      "Rebate under 87A new is:  0\n"
     ]
    }
   ],
   "source": [
    "rebate_87a_old = calculate_rebate87a(net_taxable_income_old, home_loan_sec24_deduction, income_tax_old)\n",
    "rebate_87a_new = calculate_rebate87a(net_taxable_income_new, home_loan_sec24_deduction, income_tax_new)\n",
    "print(\"Rebate under 87A old is: \", rebate_87a_old)\n",
    "print(\"Rebate under 87A new is: \", rebate_87a_new)"
   ]
  },
  {
   "cell_type": "code",
   "execution_count": 163,
   "metadata": {},
   "outputs": [
    {
     "name": "stdout",
     "output_type": "stream",
     "text": [
      "Surcharge under Old Regime is:  0\n",
      "Surcharge under New Regime is:  0\n"
     ]
    }
   ],
   "source": [
    "surcharge_old = calculate_surcharge(net_taxable_income_old, income_tax_old)\n",
    "surcharge_new = calculate_surcharge(net_taxable_income_new, income_tax_new)\n",
    "print(\"Surcharge under Old Regime is: \", surcharge_old)\n",
    "print(\"Surcharge under New Regime is: \", surcharge_new)"
   ]
  },
  {
   "cell_type": "code",
   "execution_count": 164,
   "metadata": {},
   "outputs": [
    {
     "name": "stdout",
     "output_type": "stream",
     "text": [
      "Marginal Relief under Old Regime is:  0\n",
      "Marginal Relief under New Regime is:  0\n"
     ]
    }
   ],
   "source": [
    "marginal_relief_old = calculate_marginal_relief(net_taxable_income_old, surcharge_old)\n",
    "marginal_relief_new = calculate_marginal_relief(net_taxable_income_new, surcharge_new)\n",
    "print(\"Marginal Relief under Old Regime is: \", marginal_relief_old)\n",
    "print(\"Marginal Relief under New Regime is: \", marginal_relief_new)"
   ]
  },
  {
   "cell_type": "code",
   "execution_count": 165,
   "metadata": {},
   "outputs": [
    {
     "name": "stdout",
     "output_type": "stream",
     "text": [
      "Health and Education Cess under Old Regime is:  9078\n",
      "Health and Education Cess under New Regime is:  9527\n"
     ]
    }
   ],
   "source": [
    "cess_old = round(0.04 * (income_tax_old - rebate_87a_old + surcharge_old - marginal_relief_old))\n",
    "cess_new = round(0.04 * (income_tax_new - rebate_87a_new + surcharge_new - marginal_relief_new))\n",
    "print(\"Health and Education Cess under Old Regime is: \", cess_old)\n",
    "print(\"Health and Education Cess under New Regime is: \", cess_new)"
   ]
  },
  {
   "cell_type": "code",
   "execution_count": 166,
   "metadata": {},
   "outputs": [],
   "source": [
    "total_tax_liability_old = income_tax_old - rebate_87a_old + surcharge_old - marginal_relief_old + cess_old\n",
    "total_tax_liability_new = income_tax_new - rebate_87a_new + surcharge_new - marginal_relief_new + cess_new"
   ]
  },
  {
   "cell_type": "markdown",
   "metadata": {},
   "source": [
    "# Final Result"
   ]
  },
  {
   "cell_type": "code",
   "execution_count": 167,
   "metadata": {},
   "outputs": [
    {
     "name": "stdout",
     "output_type": "stream",
     "text": [
      "Final Tax to pay in Old Regime is:  236028\n",
      "Final Tax to pay in New Regime is:  247697\n",
      "You should chose New Tax System\n"
     ]
    }
   ],
   "source": [
    "print(\"Final Tax to pay in Old Regime is: \", total_tax_liability_old)\n",
    "print(\"Final Tax to pay in New Regime is: \", total_tax_liability_new)\n",
    "if total_tax_liability_new <= total_tax_liability_new:\n",
    "    print(\"You should chose New Tax System\")\n",
    "else:\n",
    "    print(\"You should chose Old Tax System\")"
   ]
  },
  {
   "cell_type": "code",
   "execution_count": null,
   "metadata": {},
   "outputs": [],
   "source": []
  }
 ],
 "metadata": {
  "kernelspec": {
   "display_name": "Python 3",
   "language": "python",
   "name": "python3"
  },
  "language_info": {
   "codemirror_mode": {
    "name": "ipython",
    "version": 3
   },
   "file_extension": ".py",
   "mimetype": "text/x-python",
   "name": "python",
   "nbconvert_exporter": "python",
   "pygments_lexer": "ipython3",
   "version": "3.7.6"
  }
 },
 "nbformat": 4,
 "nbformat_minor": 2
}
